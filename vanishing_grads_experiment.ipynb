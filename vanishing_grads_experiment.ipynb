{
  "nbformat": 4,
  "nbformat_minor": 0,
  "metadata": {
    "colab": {
      "name": "DL_assignment_4.1.ipynb",
      "provenance": [],
      "collapsed_sections": [],
      "mount_file_id": "1lJJMcAvcGSeeqJZ1-l5h9Iq3grMlMYf3",
      "authorship_tag": "ABX9TyNhetKS3kr4bLayozEgNxFH",
      "include_colab_link": true
    },
    "kernelspec": {
      "name": "python3",
      "display_name": "Python 3"
    },
    "accelerator": "GPU"
  },
  "cells": [
    {
      "cell_type": "markdown",
      "metadata": {
        "id": "view-in-github",
        "colab_type": "text"
      },
      "source": [
        "<a href=\"https://colab.research.google.com/github/harmanpreet93/recurrent_neural_networks/blob/master/vanishing_grads_experiment.ipynb\" target=\"_parent\"><img src=\"https://colab.research.google.com/assets/colab-badge.svg\" alt=\"Open In Colab\"/></a>"
      ]
    },
    {
      "cell_type": "code",
      "metadata": {
        "id": "BEqFpO13Rgtc",
        "colab_type": "code",
        "colab": {}
      },
      "source": [
        "import os\n",
        "dir = '/content/drive/My Drive/DL-assignment-2'\n",
        "os.chdir(dir)"
      ],
      "execution_count": 0,
      "outputs": []
    },
    {
      "cell_type": "code",
      "metadata": {
        "id": "TrUa__upSINL",
        "colab_type": "code",
        "colab": {}
      },
      "source": [
        "import argparse\n",
        "import time\n",
        "import collections\n",
        "import os\n",
        "import sys\n",
        "import torch\n",
        "import torch.nn\n",
        "from torch.autograd import Variable\n",
        "import torch.nn as nn\n",
        "import numpy as np\n",
        "\n",
        "from solution import RNN, GRU\n",
        "import matplotlib.pyplot as plt"
      ],
      "execution_count": 0,
      "outputs": []
    },
    {
      "cell_type": "code",
      "metadata": {
        "id": "ONo3h3sNSROt",
        "colab_type": "code",
        "colab": {
          "base_uri": "https://localhost:8080/",
          "height": 34
        },
        "outputId": "e4cfd5ed-03b0-4efc-a953-2b97757e8130"
      },
      "source": [
        "def set_seed(seed):\n",
        "    # random.seed(seed)\n",
        "    np.random.seed(seed)\n",
        "    torch.manual_seed(seed)\n",
        "    torch.cuda.manual_seed(seed)\n",
        "    # torch.backends.cudnn.deterministic = True\n",
        "    torch.backends.cudnn.benchmark = True\n",
        "\n",
        "set_seed(1111)    \n",
        "\n",
        "# Use the GPU if you have one\n",
        "if torch.cuda.is_available():\n",
        "    print(\"Using the GPU\")\n",
        "    device = torch.device(\"cuda\")\n",
        "else:\n",
        "    print(\"WARNING: You are about to run on cpu, and this will likely run out \\\n",
        "      of memory. \\n You can try setting batch_size=1 to reduce memory usage\")\n",
        "    device = torch.device(\"cpu\")"
      ],
      "execution_count": 3,
      "outputs": [
        {
          "output_type": "stream",
          "text": [
            "Using the GPU\n"
          ],
          "name": "stdout"
        }
      ]
    },
    {
      "cell_type": "code",
      "metadata": {
        "id": "hpWemXr6rmf9",
        "colab_type": "code",
        "colab": {
          "base_uri": "https://localhost:8080/",
          "height": 51
        },
        "outputId": "0be04ec8-3640-419c-c823-862675a2a183"
      },
      "source": [
        "# HELPER FUNCTIONS\n",
        "def _read_words(filename):\n",
        "    with open(filename, \"r\") as f:\n",
        "      return f.read().replace(\"\\n\", \"<eos>\").split()\n",
        "\n",
        "def _build_vocab(filename):\n",
        "    data = _read_words(filename)\n",
        "\n",
        "    counter = collections.Counter(data)\n",
        "    count_pairs = sorted(counter.items(), key=lambda x: (-x[1], x[0]))\n",
        "\n",
        "    words, _ = list(zip(*count_pairs))\n",
        "    word_to_id = dict(zip(words, range(len(words))))\n",
        "    id_to_word = dict((v, k) for k, v in word_to_id.items())\n",
        "\n",
        "    return word_to_id, id_to_word\n",
        "\n",
        "def _file_to_word_ids(filename, word_to_id):\n",
        "    data = _read_words(filename)\n",
        "    return [word_to_id[word] for word in data if word in word_to_id]\n",
        "\n",
        "# Processes the raw data from text files\n",
        "def ptb_raw_data(data_path=None, prefix=\"ptb\"):\n",
        "    train_path = os.path.join(data_path, prefix + \".train.txt\")\n",
        "    valid_path = os.path.join(data_path, prefix + \".valid.txt\")\n",
        "    test_path = os.path.join(data_path, prefix + \".test.txt\")\n",
        "\n",
        "    word_to_id, id_2_word = _build_vocab(train_path)\n",
        "    train_data = _file_to_word_ids(train_path, word_to_id)\n",
        "    valid_data = _file_to_word_ids(valid_path, word_to_id)\n",
        "    test_data = _file_to_word_ids(test_path, word_to_id)\n",
        "    return train_data, valid_data, test_data, word_to_id, id_2_word\n",
        "\n",
        "# Yields minibatches of data\n",
        "def ptb_iterator(raw_data, batch_size, num_steps):\n",
        "    raw_data = np.array(raw_data, dtype=np.int32)\n",
        "\n",
        "    data_len = len(raw_data)\n",
        "    batch_len = data_len // batch_size\n",
        "    data = np.zeros([batch_size, batch_len], dtype=np.int32)\n",
        "    for i in range(batch_size):\n",
        "        data[i] = raw_data[batch_len * i:batch_len * (i + 1)]\n",
        "\n",
        "    epoch_size = (batch_len - 1) // num_steps\n",
        "\n",
        "    if epoch_size == 0:\n",
        "        raise ValueError(\"epoch_size == 0, decrease batch_size or num_steps\")\n",
        "\n",
        "    for i in range(epoch_size):\n",
        "        x = data[:, i*num_steps:(i+1)*num_steps]\n",
        "        y = data[:, i*num_steps+1:(i+1)*num_steps+1]\n",
        "        yield (x, y)\n",
        "\n",
        "# LOAD DATA\n",
        "print('Loading data from '+ 'data')\n",
        "raw_data = ptb_raw_data(data_path='data')\n",
        "train_data, valid_data, test_data, word_to_id, id_2_word = raw_data\n",
        "vocab_size = len(word_to_id)\n",
        "print('  vocabulary size: {}'.format(vocab_size))"
      ],
      "execution_count": 4,
      "outputs": [
        {
          "output_type": "stream",
          "text": [
            "Loading data from data\n",
            "  vocabulary size: 10000\n"
          ],
          "name": "stdout"
        }
      ]
    },
    {
      "cell_type": "code",
      "metadata": {
        "id": "FA-ZQVixrqKb",
        "colab_type": "code",
        "colab": {
          "base_uri": "https://localhost:8080/",
          "height": 34
        },
        "outputId": "ddc1bc44-1a6e-46b9-9527-54a87d21c674"
      },
      "source": [
        "model = RNN(emb_size=200, \n",
        "            hidden_size=512,\n",
        "            seq_len=35, \n",
        "            batch_size=128,\n",
        "            vocab_size=10000, \n",
        "            num_layers=2,\n",
        "            dp_keep_prob=0.8)\n",
        "\n",
        "path = \"/content/drive/My Drive/DL-assignment-2/RNN_SGD_model=RNN_optimizer=SGD_initial_lr=1.0_batch_size=128_seq_len=35_hidden_size=512_num_layers=2_dp_keep_prob=0.8_num_epochs=30_save_best_0/best_params.pt\"\n",
        "\n",
        "model = model.to(device)\n",
        "model.load_state_dict(torch.load(path))"
      ],
      "execution_count": 5,
      "outputs": [
        {
          "output_type": "execute_result",
          "data": {
            "text/plain": [
              "<All keys matched successfully>"
            ]
          },
          "metadata": {
            "tags": []
          },
          "execution_count": 5
        }
      ]
    },
    {
      "cell_type": "code",
      "metadata": {
        "id": "s_uLO8ANr1vl",
        "colab_type": "code",
        "colab": {}
      },
      "source": [
        "def forward(model, inputs):\n",
        "    if inputs.is_cuda:\n",
        "        device = inputs.get_device()\n",
        "    else:\n",
        "        device = torch.device(\"cpu\")\n",
        "\n",
        "    # Apply the Embedding layer on the input\n",
        "    embed_out = model.embeddings(inputs)# shape (seq_len,batch_size,emb_size)\n",
        "\n",
        "    # Create a tensor to store outputs during the Forward\n",
        "    logits = torch.zeros(model.seq_len, model.batch_size, model.vocab_size).to(device)\n",
        "    \n",
        "    # Create a tensor to store outputs during the Forward\n",
        "    AllHiddenStates = []\n",
        "    HiddenStateAtTimeT = []\n",
        "    for layer in range(model.num_layers):\n",
        "        hidden = torch.zeros(model.batch_size, model.hidden_size).to(device)\n",
        "        hidden.requires_grad = True\n",
        "        hidden.retain_grad()\n",
        "        HiddenStateAtTimeT.append(hidden)\n",
        "    AllHiddenStates.append(HiddenStateAtTimeT)\n",
        "    \n",
        "    for timestep in range(model.seq_len):\n",
        "        input_ = embed_out[timestep]\n",
        "        \n",
        "        NewHiddenStatesAtTimeT = []\n",
        "        CurrentHiddenStatesAtTimeT = AllHiddenStates[timestep]\n",
        "        \n",
        "        for layer in range(model.num_layers):\n",
        "            hidden = torch.tanh(model.layers[layer](torch.cat([input_, CurrentHiddenStatesAtTimeT[layer]], 1)))\n",
        "            hidden.retain_grad()\n",
        "            NewHiddenStatesAtTimeT.append(hidden)\n",
        "            input_ = hidden\n",
        "        \n",
        "        logits[timestep] = model.out_layer(input_)\n",
        "        AllHiddenStates.append(NewHiddenStatesAtTimeT)\n",
        "    return logits, AllHiddenStates"
      ],
      "execution_count": 0,
      "outputs": []
    },
    {
      "cell_type": "code",
      "metadata": {
        "id": "FVSOqxR0r3bR",
        "colab_type": "code",
        "colab": {
          "base_uri": "https://localhost:8080/",
          "height": 85
        },
        "outputId": "c7fed094-838b-42bd-a64b-110238698fc2"
      },
      "source": [
        "Norms = []\n",
        "model.train()\n",
        "loss_fn = nn.CrossEntropyLoss()\n",
        "for step, (x, y) in enumerate(ptb_iterator(train_data, model.batch_size, model.seq_len)):\n",
        "    inputs = torch.from_numpy(x.astype(np.int64)).transpose(0, 1).contiguous().to(device)#.cuda()\n",
        "    model.zero_grad()\n",
        "    outputs, hidden = forward(model, inputs)\n",
        "    targets = torch.from_numpy(y.astype(np.int64)).transpose(0, 1).contiguous().to(device)#.cuda()\n",
        "    targets = targets[model.seq_len-1,:]\n",
        "    outputs = outputs[model.seq_len-1,:,:]\n",
        "    tt = torch.squeeze(targets.view(-1, model.batch_size))\n",
        "    loss = loss_fn(outputs.contiguous().view(-1, model.vocab_size), tt)\n",
        "    loss.backward()\n",
        "    print(targets.shape,outputs.shape)\n",
        "    print(len(hidden),tt.shape,loss)\n",
        "    print(len(hidden[0]))\n",
        "    print(hidden[0][0].grad.shape,hidden[10][0].grad.shape,torch.sum(hidden[0][0].grad, dim=0).shape)\n",
        "    for index in range(model.seq_len):\n",
        "        norm_of_grad = torch.norm(torch.sum(hidden[index][1].grad, dim=0)/model.batch_size)\n",
        "        # print(norm_of_grad.data.cpu().numpy())\n",
        "        Norms.append(norm_of_grad.data.cpu().numpy())\n",
        "    break"
      ],
      "execution_count": 13,
      "outputs": [
        {
          "output_type": "stream",
          "text": [
            "torch.Size([128]) torch.Size([128, 10000])\n",
            "36 torch.Size([128]) tensor(5.2536, device='cuda:0', grad_fn=<NllLossBackward>)\n",
            "2\n",
            "torch.Size([128, 512]) torch.Size([128, 512]) torch.Size([512])\n"
          ],
          "name": "stdout"
        }
      ]
    },
    {
      "cell_type": "code",
      "metadata": {
        "id": "jnp-G1Sfr-ge",
        "colab_type": "code",
        "colab": {}
      },
      "source": [
        "# save grads\n",
        "np.save('rnnHiddenGradNorm.npy', np.array(Norms))"
      ],
      "execution_count": 0,
      "outputs": []
    },
    {
      "cell_type": "code",
      "metadata": {
        "id": "xLW78dKzsBQa",
        "colab_type": "code",
        "colab": {
          "base_uri": "https://localhost:8080/",
          "height": 34
        },
        "outputId": "745300a0-b355-4a93-abb2-28c9f94b36e3"
      },
      "source": [
        "model = GRU(emb_size=200, \n",
        "            hidden_size=512,\n",
        "            seq_len=35, \n",
        "            batch_size=128,\n",
        "            vocab_size=10000, \n",
        "            num_layers=2,\n",
        "            dp_keep_prob=0.5)\n",
        "\n",
        "path = \"/content/drive/My Drive/DL-assignment-2/GRU_ADAM_model=GRU_optimizer=ADAM_initial_lr=0.001_batch_size=128_seq_len=35_hidden_size=512_num_layers=2_dp_keep_prob=0.5_num_epochs=30_save_best_0/best_params.pt\"\n",
        "model = model.to(device)\n",
        "model.load_state_dict(torch.load(path))"
      ],
      "execution_count": 16,
      "outputs": [
        {
          "output_type": "execute_result",
          "data": {
            "text/plain": [
              "<All keys matched successfully>"
            ]
          },
          "metadata": {
            "tags": []
          },
          "execution_count": 16
        }
      ]
    },
    {
      "cell_type": "code",
      "metadata": {
        "id": "9oXyEj58tIJj",
        "colab_type": "code",
        "colab": {}
      },
      "source": [
        "def forward(model, inputs):\n",
        "    if inputs.is_cuda:\n",
        "        device = inputs.get_device()\n",
        "    else:\n",
        "        device = torch.device(\"cpu\")\n",
        "\n",
        "    # Apply the Embedding layer on the input\n",
        "    embed_out = model.word_embeddings(inputs)# shape (seq_len,batch_size,emb_size)\n",
        "\n",
        "    # Create a tensor to store outputs during the Forward\n",
        "    logits = torch.zeros(model.seq_len, model.batch_size, model.vocab_size).to(device)\n",
        "\n",
        "    # Create a tensor to store outputs during the Forward\n",
        "    AllHiddenStates = []\n",
        "    HiddenStateAtTimeT = []\n",
        "    for layer in range(model.num_layers):\n",
        "        hidden = torch.zeros(model.batch_size, model.hidden_size).to(device)\n",
        "        hidden.requires_grad = True\n",
        "        hidden.retain_grad()\n",
        "        HiddenStateAtTimeT.append(hidden)\n",
        "    AllHiddenStates.append(HiddenStateAtTimeT)\n",
        "            \n",
        "    # For each time step\n",
        "    for timestep in range(model.seq_len):\n",
        "        # Apply dropout on the embedding result\n",
        "        input_ = embed_out[timestep]\n",
        "        # For each layer\n",
        "\n",
        "        NewHiddenStatesAtTimeT = []\n",
        "        CurrentHiddenStatesAtTimeT = AllHiddenStates[timestep]\n",
        "        \n",
        "        for layer in range(model.num_layers):\n",
        "            # Pass through reset gate layer\n",
        "            r_t = torch.sigmoid(model.r[layer](torch.cat([input_, CurrentHiddenStatesAtTimeT[layer]], 1)))\n",
        "            # Pass through forget gate layer\n",
        "            z_t = torch.sigmoid(model.z[layer](torch.cat([input_, CurrentHiddenStatesAtTimeT[layer]], 1)))\n",
        "            # Pass through hidden layer\n",
        "            h_t = torch.tanh(model.h[layer](torch.cat([input_, torch.mul(r_t, CurrentHiddenStatesAtTimeT[layer].clone())], 1)))\n",
        "            # Calculate the hidden states\n",
        "            hidden = torch.add(torch.mul((1-z_t),hidden[layer].clone()), torch.mul(z_t, h_t))\n",
        "            # Apply dropout on this layer, but not for the recurrent units\n",
        "            hidden.retain_grad()\n",
        "            NewHiddenStatesAtTimeT.append(hidden)\n",
        "            input_ = hidden\n",
        "        # Store the output of the time step\n",
        "        logits[timestep] = model.out_layer(input_)  \n",
        "\n",
        "        AllHiddenStates.append(NewHiddenStatesAtTimeT)            \n",
        "    \n",
        "    return logits, AllHiddenStates"
      ],
      "execution_count": 0,
      "outputs": []
    },
    {
      "cell_type": "code",
      "metadata": {
        "id": "RN9QuyWstVan",
        "colab_type": "code",
        "colab": {
          "base_uri": "https://localhost:8080/",
          "height": 85
        },
        "outputId": "49bc80af-0481-4676-c79b-2302e674f715"
      },
      "source": [
        "Norms = []\n",
        "model.train()\n",
        "loss_fn = nn.CrossEntropyLoss()\n",
        "for step, (x, y) in enumerate(ptb_iterator(train_data, model.batch_size, model.seq_len)):\n",
        "    inputs = torch.from_numpy(x.astype(np.int64)).transpose(0, 1).contiguous().to(device)#.cuda()\n",
        "    model.zero_grad()\n",
        "    outputs, hidden = forward(model, inputs)\n",
        "    targets = torch.from_numpy(y.astype(np.int64)).transpose(0, 1).contiguous().to(device)#.cuda()\n",
        "    targets = targets[model.seq_len-1,:]\n",
        "    outputs = outputs[model.seq_len-1,:,:]\n",
        "    tt = torch.squeeze(targets.view(-1, model.batch_size))\n",
        "    loss = loss_fn(outputs.contiguous().view(-1, model.vocab_size), tt)\n",
        "    loss.backward()\n",
        "    print(targets.shape,outputs.shape)\n",
        "    print(len(hidden),tt.shape,loss)\n",
        "    print(len(hidden[0]))\n",
        "    print(hidden[0][0].grad.shape,hidden[10][0].grad.shape,torch.sum(hidden[0][0].grad, dim=0).shape)\n",
        "    for index in range(model.seq_len):\n",
        "        norm_of_grad = torch.norm(torch.sum(hidden[index][1].grad, dim=0)/model.batch_size)\n",
        "        # print(norm_of_grad.data.cpu().numpy())\n",
        "        Norms.append(norm_of_grad.data.cpu().numpy())\n",
        "    break"
      ],
      "execution_count": 19,
      "outputs": [
        {
          "output_type": "stream",
          "text": [
            "torch.Size([128]) torch.Size([128, 10000])\n",
            "36 torch.Size([128]) tensor(5.8588, device='cuda:0', grad_fn=<NllLossBackward>)\n",
            "2\n",
            "torch.Size([128, 512]) torch.Size([128, 512]) torch.Size([512])\n"
          ],
          "name": "stdout"
        }
      ]
    },
    {
      "cell_type": "code",
      "metadata": {
        "id": "ELQj49RWtXeL",
        "colab_type": "code",
        "colab": {}
      },
      "source": [
        "# save GRU grads\n",
        "np.save('gruHiddenGradNorm.npy', np.array(Norms)) "
      ],
      "execution_count": 0,
      "outputs": []
    },
    {
      "cell_type": "code",
      "metadata": {
        "id": "INpvBE7KtbgL",
        "colab_type": "code",
        "colab": {}
      },
      "source": [
        "rnn_grads = np.load('rnnHiddenGradNorm.npy')\n",
        "gru_grads = np.load('gruHiddenGradNorm.npy')"
      ],
      "execution_count": 0,
      "outputs": []
    },
    {
      "cell_type": "code",
      "metadata": {
        "id": "U4yUf3HwwCuu",
        "colab_type": "code",
        "colab": {}
      },
      "source": [
        "scaled_rnn_grads = (rnn_grads - np.min(rnn_grads))/(np.max(rnn_grads) - np.min(rnn_grads))\n",
        "scaled_gru_grads = (gru_grads - np.min(gru_grads))/(np.max(gru_grads) - np.min(gru_grads))"
      ],
      "execution_count": 0,
      "outputs": []
    },
    {
      "cell_type": "code",
      "metadata": {
        "id": "mrM5JxMMtnRv",
        "colab_type": "code",
        "colab": {
          "base_uri": "https://localhost:8080/",
          "height": 458
        },
        "outputId": "9536c78c-dd4f-47d6-f39e-615842302327"
      },
      "source": [
        "plt.rcParams['figure.figsize'] = [10, 7]\n",
        "fig, ax = plt.subplots()\n",
        "ax.plot(scaled_rnn_grads, color='r', label='RNN', marker='^')\n",
        "ax.plot(scaled_gru_grads, color='b', label='GRU', marker='s')\n",
        "ax.legend(loc='upper left')\n",
        "plt.xlabel('Sequence length')\n",
        "plt.ylabel('Euclidian Norm of Gradients (Scaled)')\n",
        "plt.title('Grads vs sequence length')\n",
        "plt.show();"
      ],
      "execution_count": 37,
      "outputs": [
        {
          "output_type": "display_data",
          "data": {
            "image/png": "[encoded data removed]",
            "text/plain": [
              "<Figure size 720x504 with 1 Axes>"
            ]
          },
          "metadata": {
            "tags": []
          }
        }
      ]
    },
    {
      "cell_type": "code",
      "metadata": {
        "id": "sxrMX_1Wv4Ya",
        "colab_type": "code",
        "colab": {}
      },
      "source": [
        ""
      ],
      "execution_count": 0,
      "outputs": []
    }
  ]
}